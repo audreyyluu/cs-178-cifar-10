{
 "cells": [
  {
   "cell_type": "markdown",
   "id": "7a94f207",
   "metadata": {},
   "source": [
    "# K-Nearest Neighbors"
   ]
  },
  {
   "cell_type": "code",
   "execution_count": 13,
   "id": "b4626922-5852-4beb-a59c-1ae12401389a",
   "metadata": {},
   "outputs": [],
   "source": [
    "import numpy as np\n",
    "import tensorflow as tf\n",
    "from sklearn.neighbors import KNeighborsClassifier\n",
    "from sklearn.model_selection import train_test_split\n",
    "from sklearn.metrics import accuracy_score, f1_score, confusion_matrix\n",
    "import matplotlib.pyplot as plt"
   ]
  },
  {
   "cell_type": "markdown",
   "id": "cac6b310-43ff-49ec-94d5-c4bdf51e3522",
   "metadata": {},
   "source": [
    "## Data Processing"
   ]
  },
  {
   "cell_type": "code",
   "execution_count": 14,
   "id": "c0357b91-c4e4-406b-80b0-e1ac8cf60fab",
   "metadata": {},
   "outputs": [],
   "source": [
    "# load data\n",
    "(x_train_val, y_train), (x_test, y_test) = tf.keras.datasets.cifar10.load_data()\n",
    "\n",
    "# normalize data\n",
    "x_train = x_train_val.astype('float32') / 255.0\n",
    "x_test = x_test.astype('float32') / 255.0\n",
    "\n",
    "# # data split\n",
    "# x_train, x_val, y_train, y_val = train_test_split(\n",
    "#     x_train_val, y_train_val, test_size=0.2, random_state=1234, stratify=y_train_val\n",
    "# )"
   ]
  },
  {
   "cell_type": "code",
   "execution_count": 15,
   "id": "9e526976-38c0-490f-8792-b29314520110",
   "metadata": {},
   "outputs": [
    {
     "name": "stdout",
     "output_type": "stream",
     "text": [
      "size of training data: (50000, 32, 32, 3)\n",
      "size of test data: (10000, 32, 32, 3)\n"
     ]
    }
   ],
   "source": [
    "print(\"size of training data:\", x_train.shape)\n",
    "print(\"size of test data:\", x_test.shape)"
   ]
  },
  {
   "cell_type": "code",
   "execution_count": 16,
   "id": "4e807072-f530-47dd-b64e-73e23ad388cf",
   "metadata": {},
   "outputs": [
    {
     "name": "stdout",
     "output_type": "stream",
     "text": [
      "X_train flatten dimension: (50000, 3072)\n",
      "X_test flatten dimension: (10000, 3072)\n"
     ]
    }
   ],
   "source": [
    "# flatten data\n",
    "X_train = x_train.reshape(x_train.shape[0], -1)\n",
    "X_test = x_test.reshape(x_test.shape[0], -1)\n",
    "print(\"X_train flatten dimension:\", X_train.shape)\n",
    "print(\"X_test flatten dimension:\", X_test.shape)"
   ]
  },
  {
   "cell_type": "markdown",
   "id": "ec5336bf-6cf7-436b-922c-a604ee36f213",
   "metadata": {},
   "source": [
    "## Fitting Model"
   ]
  },
  {
   "cell_type": "code",
   "execution_count": 17,
   "id": "fc75ab41-4dfd-451d-82b2-e881f0c561b3",
   "metadata": {},
   "outputs": [
    {
     "name": "stderr",
     "output_type": "stream",
     "text": [
      "/home/xingyl26/llm/llm_model/lib/python3.12/site-packages/sklearn/neighbors/_classification.py:239: DataConversionWarning: A column-vector y was passed when a 1d array was expected. Please change the shape of y to (n_samples,), for example using ravel().\n",
      "  return self._fit(X, y)\n"
     ]
    },
    {
     "name": "stdout",
     "output_type": "stream",
     "text": [
      "training accuracy: 0.50534\n",
      "test accuracy: 0.3398\n"
     ]
    }
   ],
   "source": [
    "knn = KNeighborsClassifier()\n",
    "knn.fit(X_train, y_train)\n",
    "train_accuracy = knn.score(X_train, y_train)\n",
    "val_accuracy = knn.score(X_test, y_test)\n",
    "# test_accuracy = knn.score(X_test, y_test)\n",
    "print(\"training accuracy:\", train_accuracy)\n",
    "print(\"test accuracy:\", val_accuracy)\n",
    "# print(\"test accuracy:\", val_accuracy)"
   ]
  },
  {
   "cell_type": "code",
   "execution_count": 24,
   "id": "befd3f58",
   "metadata": {},
   "outputs": [
    {
     "name": "stdout",
     "output_type": "stream",
     "text": [
      "0.29620490652275805\n"
     ]
    }
   ],
   "source": [
    "y_pred = knn.predict(X_test)\n",
    "f1 = f1_score(y_test, y_pred, average='weighted')\n",
    "print(f1)"
   ]
  },
  {
   "cell_type": "markdown",
   "id": "4a183e99",
   "metadata": {},
   "source": [
    "### Testing different neighbor number"
   ]
  },
  {
   "cell_type": "code",
   "execution_count": 18,
   "id": "19c3b179",
   "metadata": {},
   "outputs": [],
   "source": [
    "# neighbor_nums = [30, 50, 100, 200, 400]\n",
    "# train_acc = []\n",
    "# test_acc = []\n",
    "\n",
    "# for k in neighbor_nums:\n",
    "#     knn = KNeighborsClassifier(k)\n",
    "#     knn.fit(X_train, y_train)\n",
    "#     train_accuracy = knn.score(X_train, y_train)\n",
    "#     test_accuracy = knn.score(X_test, y_test)\n",
    "#     train_acc.append(train_accuracy)\n",
    "#     test_acc.append(test_accuracy)\n"
   ]
  },
  {
   "cell_type": "code",
   "execution_count": 19,
   "id": "6e65d6e0",
   "metadata": {},
   "outputs": [],
   "source": [
    "# ## visual display\n",
    "# figure, axes = plt.subplots()\n",
    "# axes.plot(neighbor_nums, train_acc, color = \"green\", label = \"train_accuracy\")\n",
    "# axes.plot(neighbor_nums, test_acc, color = \"red\", label = \"test_accuracy\")\n",
    "# axes.set_xlabel(\"k\")\n",
    "# axes.set_ylabel(\"Accuracy Rate\")\n",
    "# axes.legend()\n",
    "# plt.plot()\n"
   ]
  },
  {
   "cell_type": "code",
   "execution_count": 20,
   "id": "280c1e9b",
   "metadata": {},
   "outputs": [
    {
     "name": "stderr",
     "output_type": "stream",
     "text": [
      "/home/xingyl26/llm/llm_model/lib/python3.12/site-packages/sklearn/neighbors/_classification.py:239: DataConversionWarning: A column-vector y was passed when a 1d array was expected. Please change the shape of y to (n_samples,), for example using ravel().\n",
      "  return self._fit(X, y)\n"
     ]
    },
    {
     "name": "stderr",
     "output_type": "stream",
     "text": [
      "/home/xingyl26/llm/llm_model/lib/python3.12/site-packages/sklearn/neighbors/_classification.py:239: DataConversionWarning: A column-vector y was passed when a 1d array was expected. Please change the shape of y to (n_samples,), for example using ravel().\n",
      "  return self._fit(X, y)\n",
      "/home/xingyl26/llm/llm_model/lib/python3.12/site-packages/sklearn/neighbors/_classification.py:239: DataConversionWarning: A column-vector y was passed when a 1d array was expected. Please change the shape of y to (n_samples,), for example using ravel().\n",
      "  return self._fit(X, y)\n",
      "/home/xingyl26/llm/llm_model/lib/python3.12/site-packages/sklearn/neighbors/_classification.py:239: DataConversionWarning: A column-vector y was passed when a 1d array was expected. Please change the shape of y to (n_samples,), for example using ravel().\n",
      "  return self._fit(X, y)\n",
      "/home/xingyl26/llm/llm_model/lib/python3.12/site-packages/sklearn/neighbors/_classification.py:239: DataConversionWarning: A column-vector y was passed when a 1d array was expected. Please change the shape of y to (n_samples,), for example using ravel().\n",
      "  return self._fit(X, y)\n"
     ]
    }
   ],
   "source": [
    "neighbor_nums = [5, 10, 20, 40, 60]\n",
    "train_acc = []\n",
    "test_acc = []\n",
    "\n",
    "for k in neighbor_nums:\n",
    "    knn = KNeighborsClassifier(k)\n",
    "    knn.fit(X_train, y_train)\n",
    "    train_accuracy = knn.score(X_train, y_train)\n",
    "    val_accuracy = knn.score(X_test, y_test)\n",
    "    train_acc.append(train_accuracy)\n",
    "    test_acc.append(val_accuracy)"
   ]
  },
  {
   "cell_type": "code",
   "execution_count": 21,
   "id": "4cdf0e12",
   "metadata": {},
   "outputs": [
    {
     "data": {
      "text/plain": [
       "[]"
      ]
     },
     "execution_count": 21,
     "metadata": {},
     "output_type": "execute_result"
    },
    {
     "data": {
      "image/png": "[encoded data removed]",
      "text/plain": [
       "<Figure size 640x480 with 1 Axes>"
      ]
     },
     "metadata": {},
     "output_type": "display_data"
    }
   ],
   "source": [
    "## visual display\n",
    "figure, axes = plt.subplots()\n",
    "axes.plot(neighbor_nums, train_acc, color = \"green\", label = \"train_accuracy\")\n",
    "axes.plot(neighbor_nums, test_acc, color = \"red\", label = \"test_accuracy\")\n",
    "axes.set_xlabel(\"k\")\n",
    "axes.set_ylabel(\"Accuracy Rate\")\n",
    "axes.legend()\n",
    "plt.plot()"
   ]
  }
 ],
 "metadata": {
  "kernelspec": {
   "display_name": "llm_model",
   "language": "python",
   "name": "python3"
  },
  "language_info": {
   "codemirror_mode": {
    "name": "ipython",
    "version": 3
   },
   "file_extension": ".py",
   "mimetype": "text/x-python",
   "name": "python",
   "nbconvert_exporter": "python",
   "pygments_lexer": "ipython3",
   "version": "3.12.3"
  }
 },
 "nbformat": 4,
 "nbformat_minor": 5
}
