{
 "cells": [
  {
   "cell_type": "markdown",
   "id": "7a94f207",
   "metadata": {},
   "source": [
    "### K-Nearest Neighbors"
   ]
  }
 ],
 "metadata": {
  "language_info": {
   "name": "python"
  }
 },
 "nbformat": 4,
 "nbformat_minor": 5
}
