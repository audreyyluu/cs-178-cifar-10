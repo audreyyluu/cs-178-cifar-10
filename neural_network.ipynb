{
 "cells": [
  {
   "cell_type": "markdown",
   "id": "0eb94278",
   "metadata": {},
   "source": [
    "### Feedforward Neural Network"
   ]
  }
 ],
 "metadata": {
  "language_info": {
   "name": "python"
  }
 },
 "nbformat": 4,
 "nbformat_minor": 5
}
