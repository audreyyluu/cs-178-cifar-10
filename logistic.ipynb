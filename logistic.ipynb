{
 "cells": [
  {
   "cell_type": "markdown",
   "id": "a2fb8d8d",
   "metadata": {},
   "source": [
    "### Logistic Regression"
   ]
  }
 ],
 "metadata": {
  "language_info": {
   "name": "python"
  }
 },
 "nbformat": 4,
 "nbformat_minor": 5
}
