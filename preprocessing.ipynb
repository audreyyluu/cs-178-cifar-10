{
 "cells": [
  {
   "cell_type": "markdown",
   "id": "4e9ed489",
   "metadata": {},
   "source": [
    "### Preprocessing CIFAR-10"
   ]
  }
 ],
 "metadata": {
  "language_info": {
   "name": "python"
  }
 },
 "nbformat": 4,
 "nbformat_minor": 5
}
