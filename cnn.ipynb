{
 "cells": [
  {
   "cell_type": "markdown",
   "id": "dfdf1c6d",
   "metadata": {},
   "source": [
    "### Convolutional Neural Network\n",
    "Using EfficientNetV2"
   ]
  },
  {
   "cell_type": "markdown",
   "id": "98c38213",
   "metadata": {},
   "source": [
    "#### Imports"
   ]
  },
  {
   "cell_type": "code",
   "execution_count": 10,
   "id": "61a4cc88",
   "metadata": {},
   "outputs": [],
   "source": [
    "import numpy as np\n",
    "import tensorflow as tf\n",
    "from tensorflow.keras import layers, models\n",
    "from tensorflow.keras.utils import to_categorical\n",
    "from tensorflow.keras.applications import EfficientNetV2B0\n",
    "from tensorflow.keras import regularizers\n",
    "from sklearn.model_selection import train_test_split\n",
    "from sklearn.metrics import accuracy_score, f1_score, confusion_matrix\n",
    "import matplotlib.pyplot as plt"
   ]
  },
  {
   "cell_type": "markdown",
   "id": "6fd200b5",
   "metadata": {},
   "source": [
    "#### Load CIFAR-10 data"
   ]
  },
  {
   "cell_type": "code",
   "execution_count": 3,
   "id": "46008d8c",
   "metadata": {},
   "outputs": [
    {
     "name": "stdout",
     "output_type": "stream",
     "text": [
      "Downloading data from https://www.cs.toronto.edu/~kriz/cifar-10-python.tar.gz\n",
      "170498071/170498071 [==============================] - 6s 0us/step\n"
     ]
    }
   ],
   "source": [
    "(x_train_val, y_train_val), (x_test, y_test) = tf.keras.datasets.cifar10.load_data()"
   ]
  },
  {
   "cell_type": "markdown",
   "id": "375d848e",
   "metadata": {},
   "source": [
    "#### Normalize images"
   ]
  },
  {
   "cell_type": "code",
   "execution_count": 4,
   "id": "8f93fb24",
   "metadata": {},
   "outputs": [],
   "source": [
    "x_train_val = x_train_val.astype('float32') / 255.0\n",
    "x_test = x_test.astype('float32') / 255.0"
   ]
  },
  {
   "cell_type": "markdown",
   "id": "216b5e1d",
   "metadata": {},
   "source": [
    "#### Training and validation split"
   ]
  },
  {
   "cell_type": "code",
   "execution_count": 5,
   "id": "8606d7fa",
   "metadata": {},
   "outputs": [],
   "source": [
    "x_train, x_val, y_train, y_val = train_test_split(\n",
    "    x_train_val, y_train_val, test_size=0.2, random_state=1234, stratify=y_train_val\n",
    ")"
   ]
  },
  {
   "cell_type": "markdown",
   "id": "beff5626",
   "metadata": {},
   "source": [
    "#### One-hot encoding for labels"
   ]
  },
  {
   "cell_type": "code",
   "execution_count": 6,
   "id": "e9a1dc8f",
   "metadata": {},
   "outputs": [],
   "source": [
    "y_train_one_hot = to_categorical(y_train, 10)\n",
    "y_val_one_hot = to_categorical(y_val, 10)\n",
    "y_test_one_hot = to_categorical(y_test, 10)"
   ]
  },
  {
   "cell_type": "markdown",
   "id": "0f224f34",
   "metadata": {},
   "source": [
    "#### Build EfficientNetV2 model"
   ]
  },
  {
   "cell_type": "code",
   "execution_count": 11,
   "id": "1c1174cb",
   "metadata": {},
   "outputs": [],
   "source": [
    "base_model = EfficientNetV2B0(\n",
    "    include_top=False,\n",
    "    input_shape=(32, 32, 3),\n",
    "    weights='imagenet',\n",
    "    pooling='avg'\n",
    ")\n",
    "base_model.trainable = True  # Fine-tune the base model\n",
    "\n",
    "model = models.Sequential([\n",
    "    base_model,\n",
    "    layers.Dense(128, activation='relu', kernel_regularizer=regularizers.l2(0.001)),\n",
    "    layers.Dropout(0.3),\n",
    "    layers.Dense(10, activation='softmax', kernel_regularizer=regularizers.l2(0.001))\n",
    "])\n",
    "\n",
    "model.compile(\n",
    "    optimizer='adam',\n",
    "    loss='categorical_crossentropy',\n",
    "    metrics=['accuracy']\n",
    ")"
   ]
  },
  {
   "cell_type": "markdown",
   "id": "a1462f70",
   "metadata": {},
   "source": [
    "#### Train model"
   ]
  },
  {
   "cell_type": "code",
   "execution_count": null,
   "id": "91ba63d7",
   "metadata": {},
   "outputs": [],
   "source": [
    "history = model.fit(\n",
    "    x_train, y_train_one_hot,\n",
    "    epochs=10,\n",
    "    batch_size=32,\n",
    "    validation_data=(x_val, y_val_one_hot)\n",
    ")"
   ]
  },
  {
   "cell_type": "markdown",
   "id": "8d455df1",
   "metadata": {},
   "source": [
    "#### Test model"
   ]
  },
  {
   "cell_type": "code",
   "execution_count": null,
   "id": "b1353246",
   "metadata": {},
   "outputs": [],
   "source": [
    "y_pred_probs = model.predict(x_test)\n",
    "y_pred = np.argmax(y_pred_probs, axis=1)\n",
    "y_true = y_test.flatten()"
   ]
  },
  {
   "cell_type": "markdown",
   "id": "8f0ea4b0",
   "metadata": {},
   "source": [
    "#### Metrics\n",
    "Accuracy, F1 score, and confusion matrix"
   ]
  },
  {
   "cell_type": "code",
   "execution_count": null,
   "id": "813dca8c",
   "metadata": {},
   "outputs": [],
   "source": [
    "acc = accuracy_score(y_true, y_pred)\n",
    "f1 = f1_score(y_true, y_pred, average='weighted')\n",
    "cm = confusion_matrix(y_true, y_pred)\n",
    "\n",
    "print(f\"Test Accuracy: {acc:.4f}\")\n",
    "print(f\"Test F1 Score: {f1:.4f}\")\n",
    "plt.figure(figsize=(8,6))\n",
    "plt.imshow(cm, cmap='Blues')\n",
    "plt.title(\"Confusion Matrix\")\n",
    "plt.xlabel(\"Predicted\")\n",
    "plt.ylabel(\"True\")\n",
    "plt.colorbar()\n",
    "plt.show()"
   ]
  }
 ],
 "metadata": {
  "kernelspec": {
   "display_name": "cifar-10",
   "language": "python",
   "name": "python3"
  },
  "language_info": {
   "codemirror_mode": {
    "name": "ipython",
    "version": 3
   },
   "file_extension": ".py",
   "mimetype": "text/x-python",
   "name": "python",
   "nbconvert_exporter": "python",
   "pygments_lexer": "ipython3",
   "version": "3.11.5"
  }
 },
 "nbformat": 4,
 "nbformat_minor": 5
}
