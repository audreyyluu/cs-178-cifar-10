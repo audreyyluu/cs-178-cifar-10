{
 "cells": [
  {
   "cell_type": "markdown",
   "id": "dfdf1c6d",
   "metadata": {},
   "source": [
    "### Convolutional Neural Network"
   ]
  }
 ],
 "metadata": {
  "language_info": {
   "name": "python"
  }
 },
 "nbformat": 4,
 "nbformat_minor": 5
}
